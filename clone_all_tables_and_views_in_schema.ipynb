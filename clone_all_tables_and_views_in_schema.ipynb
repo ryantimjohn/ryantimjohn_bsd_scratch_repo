{
 "cells": [
  {
   "cell_type": "code",
   "execution_count": null,
   "id": "2efdca1b-66bd-4111-8198-a512e22055e2",
   "metadata": {},
   "outputs": [],
   "source": [
    "project_id = input(\"Please enter the project you'd like to work in\\n\")"
   ]
  },
  {
   "cell_type": "code",
   "execution_count": null,
   "id": "47aca194-1c8c-4f10-afe0-c512518b8401",
   "metadata": {},
   "outputs": [],
   "source": [
    "from google.cloud import bigquery\n",
    "\n",
    "# Construct a BigQuery client object.\n",
    "client = bigquery.Client()"
   ]
  },
  {
   "cell_type": "code",
   "execution_count": null,
   "id": "98df45e1-f7ec-45b3-8096-23fd9e3bb285",
   "metadata": {},
   "outputs": [],
   "source": [
    "proceed = True\n",
    "while proceed:\n",
    "    origin_schema = input(\"Please enter the schema (called 'dataset' in BigQuery) you'd like to clone from:\\n\")\n",
    "    target_schema = input(\"Please enter the schema (called 'dataset' in BigQuery) you'd like to clone to:\\n\")\n",
    "    dataset_id = f'{project_id}.{origin_schema}'\n",
    "\n",
    "    tables = client.list_tables(dataset_id)  # Make an API request.\n",
    "\n",
    "    print(\"Tables contained in '{}':\".format(dataset_id))\n",
    "    for table in tables:\n",
    "        print(\"{}.{}.{}\".format(table.project, table.dataset_id, table.table_id))\n",
    "        if table.table_type == 'VIEW':\n",
    "            clone_table_statement=f\"\"\"\n",
    "            CREATE OR REPLACE VIEW\n",
    "              {project_id}.{target_schema}.{table.table_id}\n",
    "              AS SELECT * FROM {project_id}.{origin_schema}.{table.table_id}\n",
    "            \"\"\"\n",
    "        else:\n",
    "            clone_table_statement=f\"\"\"\n",
    "            CREATE OR REPLACE TABLE\n",
    "              {project_id}.{target_schema}.{table.table_id}\n",
    "              CLONE {project_id}.{origin_schema}.{table.table_id}\n",
    "            \"\"\"\n",
    "        client.query(clone_table_statement).result()\n",
    "        print(f\"Cloned to {project_id}.{target_schema}.{table.table_id}\")\n",
    "    proceed = input(\"\\nIf you'd like to clone another schema please enter 'yes'; only the full word yes will be accepted\")=='yes'"
   ]
  }
 ],
 "metadata": {
  "environment": {
   "kernel": "python3",
   "name": "common-cpu.m91",
   "type": "gcloud",
   "uri": "gcr.io/deeplearning-platform-release/base-cpu:m91"
  },
  "kernelspec": {
   "display_name": "Python 3",
   "language": "python",
   "name": "python3"
  },
  "language_info": {
   "codemirror_mode": {
    "name": "ipython",
    "version": 3
   },
   "file_extension": ".py",
   "mimetype": "text/x-python",
   "name": "python",
   "nbconvert_exporter": "python",
   "pygments_lexer": "ipython3",
   "version": "3.7.12"
  }
 },
 "nbformat": 4,
 "nbformat_minor": 5
}
